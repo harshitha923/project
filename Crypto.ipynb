{
 "cells": [
  {
   "cell_type": "code",
   "execution_count": 3,
   "id": "421bd4f7",
   "metadata": {},
   "outputs": [
    {
     "name": "stdout",
     "output_type": "stream",
     "text": [
      "Enter your message: have a good day\n",
      "Enter your key: 29\n",
      "*****The Encrypton process*****\n",
      "_$B*$)55&&$E\n",
      "Encrypted data stored in file\n",
      "The content in the file is\n",
      " _$B*$)55&&$E\n",
      "*****The decryption process*****\n",
      "haveagoodday\n"
     ]
    }
   ],
   "source": [
    "LETTERS = 'abcdefghijklmnopqrstuvwxyz!@#$%^&*()_+=1234567890ABCDEFGHIJKLMNOPQRSTUVWXYZABCDEFGHIJKLMNOPQRSTUVWXYZ'\n",
    "\n",
    "    \n",
    "def encrypt(message, key):\n",
    "    encrypted = ''\n",
    "    for chars in message:\n",
    "        if chars in LETTERS:\n",
    "            num = LETTERS.find(chars)\n",
    "            num += key\n",
    "            encrypted += LETTERS[num]\n",
    "    return encrypted\n",
    "\n",
    "\n",
    "def decrypt(message, key):\n",
    "    decrypted = ''\n",
    "    for chars in message:\n",
    "        if chars in LETTERS:\n",
    "            num = LETTERS.find(chars)\n",
    "            num -= key\n",
    "            decrypted += LETTERS[num]\n",
    "    return decrypted\n",
    "\n",
    "\n",
    "def main():\n",
    "    message = str(input(\"Enter your message: \"))\n",
    "    key = int(input(\"Enter your key: \"))\n",
    "    print(\"*****The Encrypton process*****\")\n",
    "    print(encrypt(message, key))\n",
    "    with open(\"encrypt_data.txt\", \"w\") as out_file:\n",
    "        encrypt_string = \"\"\n",
    "        encrypt_string += \" \" + str(encrypt(message, key))\n",
    "        out_file.write(encrypt_string)\n",
    "    print(\"Encrypted data stored in file\")\n",
    "    with open(\"encrypt_data.txt\") as f:\n",
    "        contents = f.read()\n",
    "        print(\"The content in the file is\")\n",
    "        print(contents)\n",
    "        print(\"*****The decryption process*****\")\n",
    "        print(decrypt(contents, key))\n",
    "        \n",
    "\n",
    "if __name__ == '__main__':\n",
    "    main()"
   ]
  },
  {
   "cell_type": "code",
   "execution_count": 6,
   "id": "6ab550ac",
   "metadata": {},
   "outputs": [
    {
     "name": "stdout",
     "output_type": "stream",
     "text": [
      "Enter the data to be encrypted:harshitha 1432\n",
      "***** Encryption process******\n",
      "After encryption :  b'gAAAAABjGdwwIs_grCtGLfoSIBHWgm28lKtSdsRiPVkduop9_ZEckhJZ2lOdznp8I9gVoJV2II3vWszqko4D2Gy_mdjs3QNLkQ=='\n",
      "*****Admin page*******\n",
      "*****Decryption Process*******\n",
      "Enter Your Username : harsh\n",
      "Invalid user\n"
     ]
    }
   ],
   "source": [
    "from cryptography.fernet import Fernet\n",
    "database = {\"admin_*\": \"hars@142#\"}\n",
    "key = Fernet.generate_key()\n",
    "f = Fernet(key)\n",
    "m = str(input(\"Enter the data to be encrypted:\"))\n",
    "encoded = m.encode()\n",
    "encrypted_data = f.encrypt(encoded)\n",
    "print(\"***** Encryption process******\")\n",
    "print(\"After encryption : \", encrypted_data)\n",
    "print(\"*****Admin page*******\")\n",
    "print(\"*****Decryption Process*******\")\n",
    "username = str(input(\"Enter Your Username : \"))\n",
    "for i in database.keys():\n",
    "    if username != i:\n",
    "        print(\"Invalid user\")\n",
    "    else:\n",
    "        password = input(\"Enter Your Password : \")\n",
    "        if password != database.get(i):\n",
    "            print(\"Password  incorrect\")\n",
    "        else:\n",
    "            print(\"Credentials authenticated\")\n",
    "            decrypted_data = f.decrypt(encrypted_data)\n",
    "            original_msg = decrypted_data.decode()\n",
    "            print(\"After decryption : \", original_msg)"
   ]
  },
  {
   "cell_type": "code",
   "execution_count": 7,
   "id": "d6ff0eb4",
   "metadata": {},
   "outputs": [
    {
     "name": "stdout",
     "output_type": "stream",
     "text": [
      "Enter the data to be encrypted:harshitha123\n",
      "***** Encryption process******\n",
      "After encryption :  b'gAAAAABjGdxCG7cUuLd44lhqmY8GAHFVUoiSAEHgAj398w85mQHmckWU4d1VfUB2h-G4qSNpZRZJvrKQjeKCKWzgJgb_UdutBw=='\n",
      "*****Admin page*******\n",
      "*****Decryption Process*******\n",
      "Enter Your Username : admin_*\n",
      "Enter Your Password : hars@142\n",
      "Credentials authenticated\n",
      "After decryption :  harshitha123\n"
     ]
    }
   ],
   "source": [
    "from cryptography.fernet import Fernet\n",
    "database = {\"admin_*\": \"hars@142\"}\n",
    "key = Fernet.generate_key()\n",
    "f = Fernet(key)\n",
    "m = str(input(\"Enter the data to be encrypted:\"))\n",
    "encoded = m.encode()\n",
    "encrypted_data = f.encrypt(encoded)\n",
    "print(\"***** Encryption process******\")\n",
    "print(\"After encryption : \", encrypted_data)\n",
    "print(\"*****Admin page*******\")\n",
    "print(\"*****Decryption Process*******\")\n",
    "username = str(input(\"Enter Your Username : \"))\n",
    "for i in database.keys():\n",
    "    if username != i:\n",
    "        print(\"Invalid user\")\n",
    "    else:\n",
    "        password = input(\"Enter Your Password : \")\n",
    "        if password != database.get(i):\n",
    "            print(\"Password  incorrect\")\n",
    "        else:\n",
    "            print(\"Credentials authenticated\")\n",
    "            decrypted_data = f.decrypt(encrypted_data)\n",
    "            original_msg = decrypted_data.decode()\n",
    "            print(\"After decryption : \", original_msg)"
   ]
  },
  {
   "cell_type": "code",
   "execution_count": null,
   "id": "8b72599b",
   "metadata": {},
   "outputs": [],
   "source": []
  }
 ],
 "metadata": {
  "kernelspec": {
   "display_name": "Python 3 (ipykernel)",
   "language": "python",
   "name": "python3"
  },
  "language_info": {
   "codemirror_mode": {
    "name": "ipython",
    "version": 3
   },
   "file_extension": ".py",
   "mimetype": "text/x-python",
   "name": "python",
   "nbconvert_exporter": "python",
   "pygments_lexer": "ipython3",
   "version": "3.9.7"
  }
 },
 "nbformat": 4,
 "nbformat_minor": 5
}
